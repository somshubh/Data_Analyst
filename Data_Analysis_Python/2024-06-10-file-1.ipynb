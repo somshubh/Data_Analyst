{
 "cells": [
  {
   "cell_type": "code",
   "execution_count": 3,
   "metadata": {
    "collapsed": false
   },
   "outputs": [
    {
     "name": "stdout",
     "output_type": "stream",
     "text": [
      "['A', 'B']\n"
     ]
    }
   ],
   "source": [
    "a = ['A', 'B']\n",
    "print(a)"
   ]
  },
  {
   "cell_type": "code",
   "execution_count": 4,
   "metadata": {
    "collapsed": false
   },
   "outputs": [
    {
     "name": "stdout",
     "output_type": "stream",
     "text": [
      "  Project Name  Price\n",
      "A    Project 1   2400\n",
      "B    Project 2   3700\n",
      "C    Project 3   5800\n"
     ]
    }
   ],
   "source": [
    "import pandas as pd\n",
    "df = pd.DataFrame(data = [['Project 1', 2400], ['Project 2', 3700], ['Project 3', 5800]],\n",
    "                 columns = ['Project Name', 'Price'],\n",
    "                 index = ['A', 'B', 'C'])\n",
    "print(df)"
   ]
  },
  {
   "cell_type": "code",
   "execution_count": 5,
   "metadata": {
    "collapsed": false
   },
   "outputs": [
    {
     "name": "stdout",
     "output_type": "stream",
     "text": [
      "Index(['A', 'B', 'C'], dtype='object')\n"
     ]
    }
   ],
   "source": [
    "print(df.index)"
   ]
  },
  {
   "cell_type": "code",
   "execution_count": 6,
   "metadata": {
    "collapsed": false
   },
   "outputs": [
    {
     "name": "stdout",
     "output_type": "stream",
     "text": [
      "  Project Name Project Estimate Cost\n",
      "A    Project 1                 $1297\n",
      "B    Project 2                 $4790\n",
      "C    Project 3                 $3689\n"
     ]
    }
   ],
   "source": [
    "import numpy as np\n",
    "project_data = np.array([['Project 1','$1297'], ['Project 2', '$4790'], ['Project 3', '$3689']])\n",
    "project_col = np.array(['Project Name', 'Project Estimate Cost'])\n",
    "project_idx = np.array(['A', 'B', 'C'])\n",
    "project_df = pd.DataFrame(data = project_data,\n",
    "                         columns = project_col,\n",
    "                         index = project_idx)\n",
    "print(project_df)"
   ]
  },
  {
   "cell_type": "code",
   "execution_count": 7,
   "metadata": {
    "collapsed": false
   },
   "outputs": [
    {
     "name": "stdout",
     "output_type": "stream",
     "text": [
      "  Project_Name Project_Estimate_Cost\n",
      "A    Project 1                 $3456\n",
      "B    Project 2                 $7835\n",
      "C    Project 3                $35690\n"
     ]
    }
   ],
   "source": [
    "project_dict = [{'Project_Name': 'Project 1', 'Project_Estimate_Cost': '$3456'},\n",
    "               {'Project_Name': 'Project 2', 'Project_Estimate_Cost': '$7835'},\n",
    "               {'Project_Name': 'Project 3', 'Project_Estimate_Cost': '$35690'}]\n",
    "df_proj = pd.DataFrame(data = project_dict, index = ['A', 'B', 'C'])\n",
    "print(df_proj)"
   ]
  },
  {
   "cell_type": "code",
   "execution_count": 8,
   "metadata": {
    "collapsed": false
   },
   "outputs": [
    {
     "name": "stdout",
     "output_type": "stream",
     "text": [
      "  Project_Name Project_Estimate_Cost\n",
      "1    Project 1                $28902\n",
      "2    Project 2                $78935\n",
      "3    Project 3                $56724\n"
     ]
    }
   ],
   "source": [
    "p_name_ser = pd.Series(['Project 1', 'Project 2', 'Project 3'], index = ['1', '2', '3'])\n",
    "p_estimate_ser = pd.Series(['$28902', '$78935', '$56724'], index = ['1', '2', '3'])\n",
    "p_data = {'Project_Name': p_name_ser , 'Project_Estimate_Cost': p_estimate_ser}\n",
    "p_df = pd.DataFrame(p_data)\n",
    "print(p_df)"
   ]
  },
  {
   "cell_type": "markdown",
   "metadata": {
    "collapsed": false
   },
   "source": [
   ]
  },
  {
   "cell_type": "code",
   "execution_count": 9,
   "metadata": {
    "collapsed": false
   },
   "outputs": [
    {
     "data": {
      "text/plain": [
       "'/home/user'"
      ]
     },
     "execution_count": 9,
     "metadata": {
     },
     "output_type": "execute_result"
    }
   ],
   "source": [
    "pwd"
   ]
  },
  {
   "cell_type": "code",
   "execution_count": 10,
   "metadata": {
    "collapsed": false
   },
   "outputs": [
    {
     "ename": "FileNotFoundError",
     "evalue": "[Errno 2] No such file or directory: 'fileName'",
     "output_type": "error",
     "traceback": [
      "\u001b[0;31m---------------------------------------------------------------------------\u001b[0m",
      "\u001b[0;31mFileNotFoundError\u001b[0m                         Traceback (most recent call last)",
      "\u001b[0;32m/tmp/ipykernel_230/3251130968.py\u001b[0m in \u001b[0;36m<cell line: 2>\u001b[0;34m()\u001b[0m\n\u001b[1;32m      1\u001b[0m \u001b[0mfileName\u001b[0m \u001b[0;34m=\u001b[0m \u001b[0;34m'Text_Practice.txt'\u001b[0m\u001b[0;34m\u001b[0m\u001b[0;34m\u001b[0m\u001b[0m\n\u001b[0;32m----> 2\u001b[0;31m \u001b[0mfile\u001b[0m \u001b[0;34m=\u001b[0m \u001b[0mopen\u001b[0m\u001b[0;34m(\u001b[0m\u001b[0;34m'fileName'\u001b[0m\u001b[0;34m)\u001b[0m\u001b[0;34m\u001b[0m\u001b[0;34m\u001b[0m\u001b[0m\n\u001b[0m",
      "\u001b[0;31mFileNotFoundError\u001b[0m: [Errno 2] No such file or directory: 'fileName'"
     ]
    }
   ],
   "source": [
    "fileName = 'Text_Practice.txt'\n",
    "file = open('fileName')"
   ]
  },
  {
   "cell_type": "code",
   "execution_count": 11,
   "metadata": {
    "collapsed": false
   },
   "outputs": [
    {
     "data": {
      "text/plain": [
       "'/home/user'"
      ]
     },
     "execution_count": 11,
     "metadata": {
     },
     "output_type": "execute_result"
    }
   ],
   "source": [
    "pwd"
   ]
  },
  {
   "cell_type": "code",
   "execution_count": 12,
   "metadata": {
    "collapsed": false
   },
   "outputs": [
    {
     "data": {
      "text/plain": [
       "0    2300\n",
       "1    4900\n",
       "2    3690\n",
       "3    2768\n",
       "4    8200\n",
       "dtype: int64"
      ]
     },
     "execution_count": 12,
     "metadata": {
     },
     "output_type": "execute_result"
    }
   ],
   "source": [
    "import numpy as np\n",
    "import pandas as pd\n",
    "salary_arr = np.array([2300, 4900, 3690, 2768, 8200])\n",
    "salary_ser = pd.Series(salary_arr)\n",
    "salary_ser"
   ]
  },
  {
   "cell_type": "code",
   "execution_count": 13,
   "metadata": {
    "collapsed": false
   },
   "outputs": [
    {
     "name": "stdout",
     "output_type": "stream",
     "text": [
      "Max Salary: 8200\n",
      "Max Salary Index: 4\n",
      "Min Salary: 2300\n",
      "Min Salary Index: 0\n"
     ]
    }
   ],
   "source": [
    "print(\"Max Salary: \" + str(salary_ser.max()))\n",
    "print(\"Max Salary Index: \" + str(salary_ser.idxmax()))\n",
    "print(\"Min Salary: \" + str(salary_ser.min()))\n",
    "print(\"Min Salary Index: \" + str(salary_ser.idxmin()))"
   ]
  },
  {
   "cell_type": "code",
   "execution_count": 0,
   "metadata": {
    "collapsed": false
   },
   "outputs": [
   ],
   "source": [
   ]
  }
 ],
 "metadata": {
  "kernelspec": {
   "argv": [
    "/usr/bin/python3",
    "-m",
    "ipykernel",
    "--HistoryManager.enabled=False",
    "--matplotlib=inline",
    "-c",
    "%config InlineBackend.figure_formats = set(['retina'])\nimport matplotlib; matplotlib.rcParams['figure.figsize'] = (12, 7)",
    "-f",
    "{connection_file}"
   ],
   "display_name": "Python 3 (system-wide)",
   "env": {
   },
   "language": "python",
   "metadata": {
    "cocalc": {
     "description": "Python 3 programming language",
     "priority": 100,
     "url": "https://www.python.org/"
    }
   },
   "name": "python3",
   "resource_dir": "/ext/jupyter/kernels/python3"
  }
 },
 "nbformat": 4,
 "nbformat_minor": 4
}