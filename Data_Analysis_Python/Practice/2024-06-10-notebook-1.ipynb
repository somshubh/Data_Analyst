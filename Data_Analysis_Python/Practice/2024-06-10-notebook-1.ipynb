{
 "cells": [
  {
   "cell_type": "code",
   "execution_count": 16,
   "metadata": {
    "collapsed": false
   },
   "outputs": [
    {
     "data": {
      "text/plain": [
       "'Hi, I am Somshubhra Giri from West Bengal, Kolkata.'"
      ]
     },
     "execution_count": 16,
     "metadata": {
     },
     "output_type": "execute_result"
    }
   ],
   "source": [
    "fileName = 'Text_Practice.txt'\n",
    "file = open(fileName, mode = 'rt')\n",
    "file.read()\n"
   ]
  },
  {
   "cell_type": "code",
   "execution_count": 17,
   "metadata": {
    "collapsed": false
   },
   "outputs": [
    {
     "data": {
      "text/plain": [
       "''"
      ]
     },
     "execution_count": 17,
     "metadata": {
     },
     "output_type": "execute_result"
    }
   ],
   "source": [
    "file.read()"
   ]
  },
  {
   "cell_type": "code",
   "execution_count": 10,
   "metadata": {
    "collapsed": false
   },
   "outputs": [
    {
     "data": {
      "text/plain": [
       "False"
      ]
     },
     "execution_count": 10,
     "metadata": {
     },
     "output_type": "execute_result"
    }
   ],
   "source": [
    "file.closed"
   ]
  },
  {
   "cell_type": "code",
   "execution_count": 19,
   "metadata": {
    "collapsed": false
   },
   "outputs": [
    {
     "data": {
      "text/plain": [
       "True"
      ]
     },
     "execution_count": 19,
     "metadata": {
     },
     "output_type": "execute_result"
    }
   ],
   "source": [
    "file.close()\n",
    "file.closed"
   ]
  },
  {
   "cell_type": "code",
   "execution_count": 18,
   "metadata": {
    "collapsed": false
   },
   "outputs": [
    {
     "data": {
      "text/plain": [
       "''"
      ]
     },
     "execution_count": 18,
     "metadata": {
     },
     "output_type": "execute_result"
    }
   ],
   "source": [
    "file.read()"
   ]
  },
  {
   "cell_type": "code",
   "execution_count": 20,
   "metadata": {
    "collapsed": false
   },
   "outputs": [
    {
     "name": "stdout",
     "output_type": "stream",
     "text": [
      "Hi, I am Somshubhra Giri from West Bengal, Kolkata.\n"
     ]
    }
   ],
   "source": [
    "with open(fileName, mode = 'r') as out_file:\n",
    "    text = out_file.read()\n",
    "print(text)"
   ]
  },
  {
   "cell_type": "code",
   "execution_count": 21,
   "metadata": {
    "collapsed": false
   },
   "outputs": [
   ],
   "source": [
    "with open(fileName, mode = 'w') as out_file:\n",
    "    out_file.write('I completed my graduation from MCKV Institute of Engineering.')"
   ]
  },
  {
   "cell_type": "code",
   "execution_count": 22,
   "metadata": {
    "collapsed": false
   },
   "outputs": [
    {
     "data": {
      "text/plain": [
       "'I completed my graduation from MCKV Institute of Engineering.'"
      ]
     },
     "execution_count": 22,
     "metadata": {
     },
     "output_type": "execute_result"
    }
   ],
   "source": [
    "fileName = 'Text_Practice.txt'\n",
    "file = open(fileName, mode = 'rt')\n",
    "file.read()"
   ]
  },
  {
   "cell_type": "code",
   "execution_count": 23,
   "metadata": {
    "collapsed": false
   },
   "outputs": [
    {
     "data": {
      "text/plain": [
       "'Item Number,Glid,batch_builder_type,Submitted Date,Glid Type\\n62003980 DL7 WHT,CB179742,IPPS,1/27/2021 6:14,Parent Glid\\n62550266,PH65213,IPPS,5/23/2024 3:55,Parent Glid\\n62711521,CB290152,IPPS,8/28/2023 1:04,Parent Glid\\n62711521,CB290152,SB,6/29/2021 11:51,Parent Glid\\n62711521,CB573633A,IPPS,8/28/2023 1:04,Additional Glid\\n62711521,CB573633A,SB,6/29/2021 11:51,Additional Glid\\n62711521,CB573634A,IPPS,8/28/2023 1:04,Additional Glid\\n62711521,CB573634A,SB,6/29/2021 11:51,Additional Glid\\n62754251 WHT,CB430628A,IPPS,3/27/2024 7:04,Parent Glid\\n62754251 WHT,CB430628A,SB,10/25/2021 8:52,Parent Glid\\n62754732,CB408832,IPPS,10/16/2023 3:21,Parent Glid\\n62754732,CB408832,SB,8/16/2022 10:11,Parent Glid\\n62754732,CB414320,IPPS,10/16/2023 3:21,Additional Glid\\n62754732,CB414320,SB,8/16/2022 10:11,Additional Glid\\n62754732,CB414321,IPPS,10/16/2023 3:21,Additional Glid\\n62754732,CB414321,SB,8/16/2022 10:11,Additional Glid\\n62754732,CB414322,IPPS,10/16/2023 3:21,Additional Glid\\n62754732,CB414322,SB,8/16/2022 10:11,Additional Glid\\n62754732,CB414325,IPPS,10/16/2023 3:21,Additional Glid\\n62754732,CB414325,SB,8/16/2022 10:11,Additional Glid\\n62754732,CB414326,IPPS,10/16/2023 3:21,Additional Glid\\n62754732,CB414326,SB,8/16/2022 10:11,Additional Glid\\n62754732,CB414327,IPPS,10/16/2023 3:21,Additional Glid\\n62754732,CB414327,SB,8/16/2022 10:11,Additional Glid\\n62754732,CB414328,IPPS,10/16/2023 3:21,Additional Glid\\n62754732,CB414328,SB,8/16/2022 10:11,Additional Glid\\n62754732,CB414330,IPPS,10/16/2023 3:21,Additional Glid\\n62754732,CB414330,SB,8/16/2022 10:11,Additional Glid\\n62754733,CB408954,IPPS,1/25/2023 15:15,Parent Glid\\n62754733,CB408954,SB,8/16/2022 10:18,Parent Glid\\n62754736,CB412143A,IPPS,8/16/2022 11:15,Parent Glid\\n62754736,CB412143A,SB,8/16/2022 10:19,Parent Glid\\n62754736,CB467325A,IPPS,8/16/2022 11:15,Additional Glid\\n62754736,CB467325A,SB,8/16/2022 10:19,Additional Glid\\n62754743,CB408952,IPPS,6/27/2023 4:26,Parent Glid\\n62754743,CB408952,SB,3/4/2021 10:57,Parent Glid\\n62754743,CB414332,IPPS,6/27/2023 4:26,Additional Glid\\n62754743,CB414332,SB,3/4/2021 10:57,Additional Glid\\n62754743,CB414336,IPPS,6/27/2023 4:26,Additional Glid\\n62754743,CB414336,SB,3/4/2021 10:57,Additional Glid\\n62754755,CB411963,IPPS,6/26/2023 2:06,Parent Glid\\n62754755,CB411963,SB,6/29/2021 11:51,Parent Glid\\n62754755,CB416081,IPPS,6/26/2023 2:06,Additional Glid\\n62754755,CB416081,SB,6/29/2021 11:51,Additional Glid\\n62754755,CB424246,IPPS,6/26/2023 2:06,Additional Glid\\n62754755,CB424246,SB,6/29/2021 11:51,Additional Glid\\n62754758,CB408834,SB,4/13/2020 11:10,Parent Glid\\n62754771,CB408941,IPPS,6/30/2023 5:00,Additional Glid\\n62754771,CB408942,IPPS,6/30/2023 5:00,Additional Glid\\n62754771,CB408953,IPPS,6/30/2023 5:00,Parent Glid\\n62754782,CB408938,IPPS,8/16/2022 11:23,Parent Glid\\n62754782,CB408938,SB,8/16/2022 10:20,Parent Glid\\n62755280,CB437036,SB,4/13/2020 11:04,Parent Glid\\n62758767 WHT,CB430631A,IPPS,4/23/2024 11:23,Parent Glid\\n62758767 WHT,CB430631A,SB,3/4/2021 11:16,Parent Glid\\n62758935,CB438253,SB,8/16/2022 10:21,Parent Glid\\n62758935,CB438258,SB,8/16/2022 10:21,Additional Glid\\n62758935,CB438260,SB,8/16/2022 10:21,Additional Glid\\n62759440,CB442162A,IPPS,6/27/2023 5:01,Parent Glid\\n62759440,CB442162A,SB,6/15/2022 12:56,Parent Glid\\n62759440,CB500047A,IPPS,6/27/2023 5:01,Additional Glid\\n62759440,CB500047A,SB,6/15/2022 12:56,Additional Glid\\n62759440,CB500051A,IPPS,6/27/2023 5:01,Additional Glid\\n62759440,CB500051A,SB,6/15/2022 12:56,Additional Glid\\n62760474,CB461123A,IPPS,6/26/2023 22:49,Parent Glid\\n62760474,CB522872A,IPPS,6/26/2023 22:49,Additional Glid\\n62760474,CB522874A,IPPS,6/26/2023 22:49,Additional Glid\\n62762051,CB470974A,IPPS,6/27/2023 4:17,Parent Glid\\n62762051,CB470974A,SB,6/29/2021 11:50,Parent Glid\\n62762051,CB482345A,IPPS,6/27/2023 4:17,Additional Glid\\n62762051,CB482345A,SB,6/29/2021 11:50,Additional Glid\\n62762051,CB482350A,IPPS,6/27/2023 4:17,Additional Glid\\n62762051,CB482350A,SB,6/29/2021 11:50,Additional Glid\\n62763869,CB492758A,IPPS,2/24/2022 1:00,Parent Glid\\n62763869,CB492758A,SB,1/27/2021 6:30,Parent Glid\\n62763869,CB501252A,IPPS,2/24/2022 1:00,Additional Glid\\n62763869,CB501252A,SB,1/27/2021 6:30,Additional Glid\\n62763869,CB501255A,IPPS,2/24/2022 1:00,Additional Glid\\n62763869,CB501255A,SB,1/27/2021 6:30,Additional Glid\\n62763872,CB492788A,IPPS,12/15/2021 3:05,Parent Glid\\n62763872,CB492788A,SB,6/29/2021 11:51,Parent Glid\\n62763872,CB501800A,IPPS,12/15/2021 3:05,Additional Glid\\n62763872,CB501800A,SB,6/29/2021 11:51,Additional Glid\\n62763872,CB501937A,IPPS,12/15/2021 3:05,Additional Glid\\n62763872,CB501937A,SB,6/29/2021 11:51,Additional Glid\\n62765063 CN WHT,CB502217,IPPS,10/16/2023 1:53,Parent Glid\\n62765063 CN WHT_RS,CB702108A,IPPS,10/16/2023 1:33,Parent Glid\\n62767254 WHT,CB533064A,IPPS,6/26/2023 0:17,Parent Glid\\n62773607 WHT,CB619388A,SB,3/20/2024 12:25,Parent Glid\\n62782476 WHT,CB727170A,IPPS,5/23/2024 4:46,Parent Glid\\n62782476 WHT,CB727170A,SB,4/23/2024 12:36,Parent Glid\\n62782477,CB727181A,IPPS,5/23/2024 23:43,Parent Glid\\n62782477,CB727181A,SB,4/23/2024 12:39,Parent Glid\\n62782511 WHT ONE ASIA,CB726881A,IPPS,4/24/2024 23:35,Parent Glid\\n62782511 WHT ONE ASIA,CB726881A,SB,4/23/2024 12:58,Parent Glid\\n62782512,CB726884A,IPPS,4/24/2024 23:37,Parent Glid\\n62782512,CB726884A,SB,5/10/2024 4:40,Parent Glid\\n'"
      ]
     },
     "execution_count": 23,
     "metadata": {
     },
     "output_type": "execute_result"
    }
   ],
   "source": [
    "csvFileName = 'Glid_Check.csv'\n",
    "file_csv = open(csvFileName)\n",
    "file_csv.read()"
   ]
  },
  {
   "cell_type": "code",
   "execution_count": 22,
   "metadata": {
    "collapsed": false
   },
   "outputs": [
    {
     "data": {
      "text/html": [
       "<div>\n",
       "<style scoped>\n",
       "    .dataframe tbody tr th:only-of-type {\n",
       "        vertical-align: middle;\n",
       "    }\n",
       "\n",
       "    .dataframe tbody tr th {\n",
       "        vertical-align: top;\n",
       "    }\n",
       "\n",
       "    .dataframe thead th {\n",
       "        text-align: right;\n",
       "    }\n",
       "</style>\n",
       "<table border=\"1\" class=\"dataframe\">\n",
       "  <thead>\n",
       "    <tr style=\"text-align: right;\">\n",
       "      <th></th>\n",
       "      <th>Item Number</th>\n",
       "      <th>Glid</th>\n",
       "      <th>batch_builder_type</th>\n",
       "      <th>Submitted Date</th>\n",
       "      <th>Glid Type</th>\n",
       "    </tr>\n",
       "  </thead>\n",
       "  <tbody>\n",
       "    <tr>\n",
       "      <th>0</th>\n",
       "      <td>62003980 DL7 WHT</td>\n",
       "      <td>CB179742</td>\n",
       "      <td>IPPS</td>\n",
       "      <td>1/27/2021 6:14</td>\n",
       "      <td>Parent Glid</td>\n",
       "    </tr>\n",
       "    <tr>\n",
       "      <th>1</th>\n",
       "      <td>62550266</td>\n",
       "      <td>PH65213</td>\n",
       "      <td>IPPS</td>\n",
       "      <td>5/23/2024 3:55</td>\n",
       "      <td>Parent Glid</td>\n",
       "    </tr>\n",
       "    <tr>\n",
       "      <th>2</th>\n",
       "      <td>62711521</td>\n",
       "      <td>CB290152</td>\n",
       "      <td>IPPS</td>\n",
       "      <td>8/28/2023 1:04</td>\n",
       "      <td>Parent Glid</td>\n",
       "    </tr>\n",
       "    <tr>\n",
       "      <th>3</th>\n",
       "      <td>62711521</td>\n",
       "      <td>CB290152</td>\n",
       "      <td>SB</td>\n",
       "      <td>6/29/2021 11:51</td>\n",
       "      <td>Parent Glid</td>\n",
       "    </tr>\n",
       "    <tr>\n",
       "      <th>4</th>\n",
       "      <td>62711521</td>\n",
       "      <td>CB573633A</td>\n",
       "      <td>IPPS</td>\n",
       "      <td>8/28/2023 1:04</td>\n",
       "      <td>Additional Glid</td>\n",
       "    </tr>\n",
       "    <tr>\n",
       "      <th>...</th>\n",
       "      <td>...</td>\n",
       "      <td>...</td>\n",
       "      <td>...</td>\n",
       "      <td>...</td>\n",
       "      <td>...</td>\n",
       "    </tr>\n",
       "    <tr>\n",
       "      <th>92</th>\n",
       "      <td>62782477</td>\n",
       "      <td>CB727181A</td>\n",
       "      <td>SB</td>\n",
       "      <td>4/23/2024 12:39</td>\n",
       "      <td>Parent Glid</td>\n",
       "    </tr>\n",
       "    <tr>\n",
       "      <th>93</th>\n",
       "      <td>62782511 WHT ONE ASIA</td>\n",
       "      <td>CB726881A</td>\n",
       "      <td>IPPS</td>\n",
       "      <td>4/24/2024 23:35</td>\n",
       "      <td>Parent Glid</td>\n",
       "    </tr>\n",
       "    <tr>\n",
       "      <th>94</th>\n",
       "      <td>62782511 WHT ONE ASIA</td>\n",
       "      <td>CB726881A</td>\n",
       "      <td>SB</td>\n",
       "      <td>4/23/2024 12:58</td>\n",
       "      <td>Parent Glid</td>\n",
       "    </tr>\n",
       "    <tr>\n",
       "      <th>95</th>\n",
       "      <td>62782512</td>\n",
       "      <td>CB726884A</td>\n",
       "      <td>IPPS</td>\n",
       "      <td>4/24/2024 23:37</td>\n",
       "      <td>Parent Glid</td>\n",
       "    </tr>\n",
       "    <tr>\n",
       "      <th>96</th>\n",
       "      <td>62782512</td>\n",
       "      <td>CB726884A</td>\n",
       "      <td>SB</td>\n",
       "      <td>5/10/2024 4:40</td>\n",
       "      <td>Parent Glid</td>\n",
       "    </tr>\n",
       "  </tbody>\n",
       "</table>\n",
       "<p>97 rows × 5 columns</p>\n",
       "</div>"
      ],
      "text/plain": [
       "              Item Number       Glid batch_builder_type   Submitted Date  \\\n",
       "0        62003980 DL7 WHT   CB179742               IPPS   1/27/2021 6:14   \n",
       "1                62550266    PH65213               IPPS   5/23/2024 3:55   \n",
       "2                62711521   CB290152               IPPS   8/28/2023 1:04   \n",
       "3                62711521   CB290152                 SB  6/29/2021 11:51   \n",
       "4                62711521  CB573633A               IPPS   8/28/2023 1:04   \n",
       "..                    ...        ...                ...              ...   \n",
       "92               62782477  CB727181A                 SB  4/23/2024 12:39   \n",
       "93  62782511 WHT ONE ASIA  CB726881A               IPPS  4/24/2024 23:35   \n",
       "94  62782511 WHT ONE ASIA  CB726881A                 SB  4/23/2024 12:58   \n",
       "95               62782512  CB726884A               IPPS  4/24/2024 23:37   \n",
       "96               62782512  CB726884A                 SB   5/10/2024 4:40   \n",
       "\n",
       "          Glid Type  \n",
       "0       Parent Glid  \n",
       "1       Parent Glid  \n",
       "2       Parent Glid  \n",
       "3       Parent Glid  \n",
       "4   Additional Glid  \n",
       "..              ...  \n",
       "92      Parent Glid  \n",
       "93      Parent Glid  \n",
       "94      Parent Glid  \n",
       "95      Parent Glid  \n",
       "96      Parent Glid  \n",
       "\n",
       "[97 rows x 5 columns]"
      ]
     },
     "execution_count": 22,
     "metadata": {
     },
     "output_type": "execute_result"
    }
   ],
   "source": [
    "import pandas as pd\n",
    "csvFileName = 'Glid_Check.csv'\n",
    "df_csv = pd.read_csv(csvFileName)\n",
    "df_csv"
   ]
  },
  {
   "cell_type": "code",
   "execution_count": 25,
   "metadata": {
    "collapsed": false
   },
   "outputs": [
    {
     "data": {
      "text/html": [
       "<div>\n",
       "<style scoped>\n",
       "    .dataframe tbody tr th:only-of-type {\n",
       "        vertical-align: middle;\n",
       "    }\n",
       "\n",
       "    .dataframe tbody tr th {\n",
       "        vertical-align: top;\n",
       "    }\n",
       "\n",
       "    .dataframe thead th {\n",
       "        text-align: right;\n",
       "    }\n",
       "</style>\n",
       "<table border=\"1\" class=\"dataframe\">\n",
       "  <thead>\n",
       "    <tr style=\"text-align: right;\">\n",
       "      <th></th>\n",
       "      <th>62003980 DL7 WHT</th>\n",
       "      <th>CB179742</th>\n",
       "      <th>IPPS</th>\n",
       "      <th>1/27/2021 6:14</th>\n",
       "      <th>Parent Glid</th>\n",
       "    </tr>\n",
       "  </thead>\n",
       "  <tbody>\n",
       "    <tr>\n",
       "      <th>0</th>\n",
       "      <td>62711521</td>\n",
       "      <td>CB290152</td>\n",
       "      <td>IPPS</td>\n",
       "      <td>8/28/2023 1:04</td>\n",
       "      <td>Parent Glid</td>\n",
       "    </tr>\n",
       "    <tr>\n",
       "      <th>1</th>\n",
       "      <td>62711521</td>\n",
       "      <td>CB573633A</td>\n",
       "      <td>IPPS</td>\n",
       "      <td>8/28/2023 1:04</td>\n",
       "      <td>Additional Glid</td>\n",
       "    </tr>\n",
       "    <tr>\n",
       "      <th>2</th>\n",
       "      <td>62711521</td>\n",
       "      <td>CB573634A</td>\n",
       "      <td>IPPS</td>\n",
       "      <td>8/28/2023 1:04</td>\n",
       "      <td>Additional Glid</td>\n",
       "    </tr>\n",
       "    <tr>\n",
       "      <th>3</th>\n",
       "      <td>62711521</td>\n",
       "      <td>CB573634A</td>\n",
       "      <td>SB</td>\n",
       "      <td>6/29/2021 11:51</td>\n",
       "      <td>Additional Glid</td>\n",
       "    </tr>\n",
       "    <tr>\n",
       "      <th>4</th>\n",
       "      <td>62754251 WHT</td>\n",
       "      <td>CB430628A</td>\n",
       "      <td>IPPS</td>\n",
       "      <td>3/27/2024 7:04</td>\n",
       "      <td>Parent Glid</td>\n",
       "    </tr>\n",
       "    <tr>\n",
       "      <th>...</th>\n",
       "      <td>...</td>\n",
       "      <td>...</td>\n",
       "      <td>...</td>\n",
       "      <td>...</td>\n",
       "      <td>...</td>\n",
       "    </tr>\n",
       "    <tr>\n",
       "      <th>88</th>\n",
       "      <td>62782477</td>\n",
       "      <td>CB727181A</td>\n",
       "      <td>SB</td>\n",
       "      <td>4/23/2024 12:39</td>\n",
       "      <td>Parent Glid</td>\n",
       "    </tr>\n",
       "    <tr>\n",
       "      <th>89</th>\n",
       "      <td>62782511 WHT ONE ASIA</td>\n",
       "      <td>CB726881A</td>\n",
       "      <td>IPPS</td>\n",
       "      <td>4/24/2024 23:35</td>\n",
       "      <td>Parent Glid</td>\n",
       "    </tr>\n",
       "    <tr>\n",
       "      <th>90</th>\n",
       "      <td>62782511 WHT ONE ASIA</td>\n",
       "      <td>CB726881A</td>\n",
       "      <td>SB</td>\n",
       "      <td>4/23/2024 12:58</td>\n",
       "      <td>Parent Glid</td>\n",
       "    </tr>\n",
       "    <tr>\n",
       "      <th>91</th>\n",
       "      <td>62782512</td>\n",
       "      <td>CB726884A</td>\n",
       "      <td>IPPS</td>\n",
       "      <td>4/24/2024 23:37</td>\n",
       "      <td>Parent Glid</td>\n",
       "    </tr>\n",
       "    <tr>\n",
       "      <th>92</th>\n",
       "      <td>62782512</td>\n",
       "      <td>CB726884A</td>\n",
       "      <td>SB</td>\n",
       "      <td>5/10/2024 4:40</td>\n",
       "      <td>Parent Glid</td>\n",
       "    </tr>\n",
       "  </tbody>\n",
       "</table>\n",
       "<p>93 rows × 5 columns</p>\n",
       "</div>"
      ],
      "text/plain": [
       "         62003980 DL7 WHT   CB179742  IPPS   1/27/2021 6:14      Parent Glid\n",
       "0                62711521   CB290152  IPPS   8/28/2023 1:04      Parent Glid\n",
       "1                62711521  CB573633A  IPPS   8/28/2023 1:04  Additional Glid\n",
       "2                62711521  CB573634A  IPPS   8/28/2023 1:04  Additional Glid\n",
       "3                62711521  CB573634A    SB  6/29/2021 11:51  Additional Glid\n",
       "4            62754251 WHT  CB430628A  IPPS   3/27/2024 7:04      Parent Glid\n",
       "..                    ...        ...   ...              ...              ...\n",
       "88               62782477  CB727181A    SB  4/23/2024 12:39      Parent Glid\n",
       "89  62782511 WHT ONE ASIA  CB726881A  IPPS  4/24/2024 23:35      Parent Glid\n",
       "90  62782511 WHT ONE ASIA  CB726881A    SB  4/23/2024 12:58      Parent Glid\n",
       "91               62782512  CB726884A  IPPS  4/24/2024 23:37      Parent Glid\n",
       "92               62782512  CB726884A    SB   5/10/2024 4:40      Parent Glid\n",
       "\n",
       "[93 rows x 5 columns]"
      ]
     },
     "execution_count": 25,
     "metadata": {
     },
     "output_type": "execute_result"
    }
   ],
   "source": [
    "import pandas as pd\n",
    "csvFileName = 'Glid_Check.csv'\n",
    "df_csv = pd.read_csv(csvFileName, \n",
    "                     skiprows= [0, 2, 4, 6 ])\n",
    "df_csv"
   ]
  },
  {
   "cell_type": "code",
   "execution_count": 28,
   "metadata": {
    "collapsed": false
   },
   "outputs": [
    {
     "name": "stdout",
     "output_type": "stream",
     "text": [
      "<class 'pandas.core.frame.DataFrame'>\n"
     ]
    }
   ],
   "source": [
    "print(type(pd.read_csv(csvFileName)))"
   ]
  },
  {
   "cell_type": "code",
   "execution_count": 29,
   "metadata": {
    "collapsed": false
   },
   "outputs": [
    {
     "name": "stdout",
     "output_type": "stream",
     "text": [
      "(97, 5)\n"
     ]
    }
   ],
   "source": [
    "print(pd.read_csv(csvFileName).shape)"
   ]
  },
  {
   "cell_type": "code",
   "execution_count": 14,
   "metadata": {
    "collapsed": false
   },
   "outputs": [
    {
     "name": "stderr",
     "output_type": "stream",
     "text": [
      "/tmp/ipykernel_227/3897045221.py:6: DeprecationWarning: `np.str` is a deprecated alias for the builtin `str`. To silence this warning, use `str` by itself. Doing this will not modify any behavior and is safe. If you specifically wanted the numpy scalar type, use `np.str_` here.\n",
      "Deprecated in NumPy 1.20; for more details and guidance: https://numpy.org/devdocs/release/1.20.0-notes.html#deprecations\n",
      "  dtype = np.str)\n"
     ]
    },
    {
     "data": {
      "text/plain": [
       "array([['A102', ' 3045', ' XXL', ' 778', ' $79'],\n",
       "       ['A103', ' 3047', ' S', ' 777', ' $76'],\n",
       "       ['A104', ' 3048', ' XX', ' 776', ' $82'],\n",
       "       ['A105', ' 3042', ' M', ' 772', ' $92'],\n",
       "       ['A106', ' 3037', ' XL', ' 771', ' $93'],\n",
       "       ['A107', ' 3038', ' XXS', ' 775', ' $99'],\n",
       "       ['A108', ' 3045', ' XXL', ' 778', ' $79'],\n",
       "       ['A109', ' 3047', ' S', ' 755', ' $76'],\n",
       "       ['A110', ' 3048', ' XX', ' 752', ' $82'],\n",
       "       ['A111', ' 3042', ' M', ' 746', ' $92'],\n",
       "       ['A112', ' 3037', ' XL', ' 745', ' $93'],\n",
       "       ['A113', ' 3038', ' XXS', ' 743', ' $99']], dtype='<U5')"
      ]
     },
     "execution_count": 14,
     "metadata": {
     },
     "output_type": "execute_result"
    }
   ],
   "source": [
    "import pandas as pd\n",
    "import numpy as np\n",
    "txt_File_Name = 'Size_Map.txt'\n",
    "txt_File_Data = np.loadtxt(txt_File_Name, \n",
    "                           delimiter = ',',\n",
    "                          dtype = np.str)\n",
    "txt_File_Data"
   ]
  },
  {
   "cell_type": "code",
   "execution_count": 16,
   "metadata": {
    "collapsed": false
   },
   "outputs": [
    {
     "name": "stderr",
     "output_type": "stream",
     "text": [
      "/tmp/ipykernel_227/632726048.py:6: DeprecationWarning: `np.str` is a deprecated alias for the builtin `str`. To silence this warning, use `str` by itself. Doing this will not modify any behavior and is safe. If you specifically wanted the numpy scalar type, use `np.str_` here.\n",
      "Deprecated in NumPy 1.20; for more details and guidance: https://numpy.org/devdocs/release/1.20.0-notes.html#deprecations\n",
      "  dtype = np.str\n"
     ]
    },
    {
     "data": {
      "text/plain": [
       "array([['A102', ' 3045', ' XXL', ' 778', ' $79'],\n",
       "       ['A103', ' 3047', ' S', ' 777', ' $76'],\n",
       "       ['A104', ' 3048', ' XX', ' 776', ' $82'],\n",
       "       ['A105', ' 3042', ' M', ' 772', ' $92'],\n",
       "       ['A106', ' 3037', ' XL', ' 771', ' $93'],\n",
       "       ['A107', ' 3038', ' XXS', ' 775', ' $99'],\n",
       "       ['A108', ' 3045', ' XXL', ' 778', ' $79'],\n",
       "       ['A109', ' 3047', ' S', ' 755', ' $76'],\n",
       "       ['A110', ' 3048', ' XX', ' 752', ' $82'],\n",
       "       ['A111', ' 3042', ' M', ' 746', ' $92'],\n",
       "       ['A112', ' 3037', ' XL', ' 745', ' $93'],\n",
       "       ['A113', ' 3038', ' XXS', ' 743', ' $99']], dtype='<U5')"
      ]
     },
     "execution_count": 16,
     "metadata": {
     },
     "output_type": "execute_result"
    }
   ],
   "source": [
    "import pandas as pd\n",
    "import numpy as np\n",
    "txt_File_Name_1 = 'Size_Map.txt'\n",
    "txt_File_Data_1 = np.genfromtxt(txt_File_Name, \n",
    "                                delimiter = ',',\n",
    "                                dtype = np.str\n",
    "                               )\n",
    "txt_File_Data_1"
   ]
  },
  {
   "cell_type": "code",
   "execution_count": 18,
   "metadata": {
    "collapsed": false
   },
   "outputs": [
    {
     "name": "stderr",
     "output_type": "stream",
     "text": [
      "/tmp/ipykernel_227/1077544286.py:6: DeprecationWarning: `np.str` is a deprecated alias for the builtin `str`. To silence this warning, use `str` by itself. Doing this will not modify any behavior and is safe. If you specifically wanted the numpy scalar type, use `np.str_` here.\n",
      "Deprecated in NumPy 1.20; for more details and guidance: https://numpy.org/devdocs/release/1.20.0-notes.html#deprecations\n",
      "  dtype = np.str,\n"
     ]
    },
    {
     "data": {
      "text/plain": [
       "array([['A104', ' XX', ' $82'],\n",
       "       ['A105', ' M', ' $92'],\n",
       "       ['A106', ' XL', ' $93'],\n",
       "       ['A107', ' XXS', ' $99'],\n",
       "       ['A108', ' XXL', ' $79'],\n",
       "       ['A109', ' S', ' $76'],\n",
       "       ['A110', ' XX', ' $82'],\n",
       "       ['A111', ' M', ' $92']], dtype='<U4')"
      ]
     },
     "execution_count": 18,
     "metadata": {
     },
     "output_type": "execute_result"
    }
   ],
   "source": [
    "import pandas as pd\n",
    "import numpy as np\n",
    "txt_File_Name_1 = 'Size_Map.txt'\n",
    "txt_File_Data_1 = np.genfromtxt(txt_File_Name, \n",
    "                                delimiter = ',',\n",
    "                                dtype = np.str,\n",
    "                                skip_header = 2,\n",
    "                                skip_footer = 2,\n",
    "                                usecols = (0,2,4)\n",
    "                               )\n",
    "txt_File_Data_1"
   ]
  },
  {
   "cell_type": "code",
   "execution_count": 27,
   "metadata": {
    "collapsed": false
   },
   "outputs": [
    {
     "name": "stdout",
     "output_type": "stream",
     "text": [
      "['A104' 'A105' 'A106' 'A107' 'A108' 'A109' 'A110' 'A111' 'A112' 'A113']\n",
      "[' XX' ' M' ' XL' ' XXS' ' XXL' ' S' ' XX' ' M' ' XL' ' XXS']\n",
      "[' $82' ' $92' ' $93' ' $99' ' $79' ' $76' ' $82' ' $92' ' $93' ' $99']\n"
     ]
    },
    {
     "name": "stderr",
     "output_type": "stream",
     "text": [
      "/tmp/ipykernel_227/1566153458.py:6: DeprecationWarning: `np.str` is a deprecated alias for the builtin `str`. To silence this warning, use `str` by itself. Doing this will not modify any behavior and is safe. If you specifically wanted the numpy scalar type, use `np.str_` here.\n",
      "Deprecated in NumPy 1.20; for more details and guidance: https://numpy.org/devdocs/release/1.20.0-notes.html#deprecations\n",
      "  dtype = np.str,\n"
     ]
    }
   ],
   "source": [
    "import pandas as pd\n",
    "import numpy as np\n",
    "txt_File_Name = 'Size_Map.txt'\n",
    "txt_File_Data_3, txt_File_Data_4, txt_File_Data_5  = np.loadtxt(txt_File_Name, \n",
    "                           delimiter = ',',\n",
    "                          dtype = np.str,\n",
    "                          usecols = (0,2,4),\n",
    "                          skiprows= 2,\n",
    "                          unpack = True)\n",
    "print(txt_File_Data_3)\n",
    "print(txt_File_Data_4)\n",
    "print(txt_File_Data_5)"
   ]
  },
  {
   "cell_type": "code",
   "execution_count": 12,
   "metadata": {
    "collapsed": false
   },
   "outputs": [
    {
     "data": {
      "text/plain": [
       "'{\"Customer 1\":\"Somshubhra Giri\",\"Customer 2\": \"Subhojit Patra\"}'"
      ]
     },
     "execution_count": 12,
     "metadata": {
     },
     "output_type": "execute_result"
    }
   ],
   "source": [
    "json_data = '{\"Customer 1\":\"Somshubhra Giri\",\"Customer 2\": \"Subhojit Patra\"}'\n",
    "json_data"
   ]
  },
  {
   "cell_type": "code",
   "execution_count": 13,
   "metadata": {
    "collapsed": false
   },
   "outputs": [
    {
     "data": {
      "text/plain": [
       "str"
      ]
     },
     "execution_count": 13,
     "metadata": {
     },
     "output_type": "execute_result"
    }
   ],
   "source": [
    "type(json_data)"
   ]
  },
  {
   "cell_type": "code",
   "execution_count": 14,
   "metadata": {
    "collapsed": false
   },
   "outputs": [
    {
     "data": {
      "text/plain": [
       "{'Customer 1': 'Somshubhra Giri', 'Customer 2': 'Subhojit Patra'}"
      ]
     },
     "execution_count": 14,
     "metadata": {
     },
     "output_type": "execute_result"
    }
   ],
   "source": [
    "import json\n",
    "js_load_data = json.loads(json_data)\n",
    "js_load_data\n"
   ]
  },
  {
   "cell_type": "code",
   "execution_count": 15,
   "metadata": {
    "collapsed": false
   },
   "outputs": [
    {
     "data": {
      "text/plain": [
       "dict"
      ]
     },
     "execution_count": 15,
     "metadata": {
     },
     "output_type": "execute_result"
    }
   ],
   "source": [
    "type(js_load_data)"
   ]
  },
  {
   "cell_type": "code",
   "execution_count": 3,
   "metadata": {
    "collapsed": false
   },
   "outputs": [
    {
     "data": {
      "text/html": [
       "<div>\n",
       "<style scoped>\n",
       "    .dataframe tbody tr th:only-of-type {\n",
       "        vertical-align: middle;\n",
       "    }\n",
       "\n",
       "    .dataframe tbody tr th {\n",
       "        vertical-align: top;\n",
       "    }\n",
       "\n",
       "    .dataframe thead th {\n",
       "        text-align: right;\n",
       "    }\n",
       "</style>\n",
       "<table border=\"1\" class=\"dataframe\">\n",
       "  <thead>\n",
       "    <tr style=\"text-align: right;\">\n",
       "      <th></th>\n",
       "      <th>Loan ID</th>\n",
       "      <th>String_ID</th>\n",
       "      <th>Product</th>\n",
       "      <th>CustomerGender</th>\n",
       "      <th>Location</th>\n",
       "      <th>Region</th>\n",
       "      <th>TotalPrice</th>\n",
       "      <th>StartDate</th>\n",
       "      <th>Deposit</th>\n",
       "      <th>DailyRate</th>\n",
       "      <th>TotalDays</th>\n",
       "      <th>AmountPaid30</th>\n",
       "      <th>AmountPaid60</th>\n",
       "      <th>AmountPaid360</th>\n",
       "      <th>LoanStatus360</th>\n",
       "    </tr>\n",
       "  </thead>\n",
       "  <tbody>\n",
       "    <tr>\n",
       "      <th>0</th>\n",
       "      <td>1</td>\n",
       "      <td>id_1</td>\n",
       "      <td>Product B</td>\n",
       "      <td>Male</td>\n",
       "      <td>Location 2</td>\n",
       "      <td>Region 2</td>\n",
       "      <td>16600</td>\n",
       "      <td>7/4/2014</td>\n",
       "      <td>2000</td>\n",
       "      <td>40</td>\n",
       "      <td>365</td>\n",
       "      <td>3121</td>\n",
       "      <td>4241</td>\n",
       "      <td>13621</td>\n",
       "      <td>Active</td>\n",
       "    </tr>\n",
       "    <tr>\n",
       "      <th>1</th>\n",
       "      <td>2</td>\n",
       "      <td>id_2</td>\n",
       "      <td>Product B</td>\n",
       "      <td>Male</td>\n",
       "      <td>Location 3</td>\n",
       "      <td>Region 3</td>\n",
       "      <td>16600</td>\n",
       "      <td>1/2/2015</td>\n",
       "      <td>2000</td>\n",
       "      <td>40</td>\n",
       "      <td>365</td>\n",
       "      <td>3061</td>\n",
       "      <td>4171</td>\n",
       "      <td>15041</td>\n",
       "      <td>Active</td>\n",
       "    </tr>\n",
       "    <tr>\n",
       "      <th>2</th>\n",
       "      <td>3</td>\n",
       "      <td>id_3</td>\n",
       "      <td>Product C</td>\n",
       "      <td>Female</td>\n",
       "      <td>Location 5</td>\n",
       "      <td>Region 5</td>\n",
       "      <td>15600</td>\n",
       "      <td>12/8/2012</td>\n",
       "      <td>1000</td>\n",
       "      <td>40</td>\n",
       "      <td>365</td>\n",
       "      <td>2160</td>\n",
       "      <td>3280</td>\n",
       "      <td>15340</td>\n",
       "      <td>None</td>\n",
       "    </tr>\n",
       "    <tr>\n",
       "      <th>3</th>\n",
       "      <td>4</td>\n",
       "      <td>id_4</td>\n",
       "      <td>Product B</td>\n",
       "      <td>Male</td>\n",
       "      <td>Location 6</td>\n",
       "      <td>Region 1</td>\n",
       "      <td>16600</td>\n",
       "      <td>2/20/2015</td>\n",
       "      <td>2000</td>\n",
       "      <td>40</td>\n",
       "      <td>365</td>\n",
       "      <td>3041</td>\n",
       "      <td>4241</td>\n",
       "      <td>15321</td>\n",
       "      <td>Active</td>\n",
       "    </tr>\n",
       "    <tr>\n",
       "      <th>4</th>\n",
       "      <td>5</td>\n",
       "      <td>id_5</td>\n",
       "      <td>Product D</td>\n",
       "      <td>Female</td>\n",
       "      <td>Location 7</td>\n",
       "      <td>Region 2</td>\n",
       "      <td>20250</td>\n",
       "      <td>10/28/2013</td>\n",
       "      <td>2000</td>\n",
       "      <td>50</td>\n",
       "      <td>365</td>\n",
       "      <td>3470</td>\n",
       "      <td>4820</td>\n",
       "      <td>13720</td>\n",
       "      <td>Active</td>\n",
       "    </tr>\n",
       "    <tr>\n",
       "      <th>...</th>\n",
       "      <td>...</td>\n",
       "      <td>...</td>\n",
       "      <td>...</td>\n",
       "      <td>...</td>\n",
       "      <td>...</td>\n",
       "      <td>...</td>\n",
       "      <td>...</td>\n",
       "      <td>...</td>\n",
       "      <td>...</td>\n",
       "      <td>...</td>\n",
       "      <td>...</td>\n",
       "      <td>...</td>\n",
       "      <td>...</td>\n",
       "      <td>...</td>\n",
       "      <td>...</td>\n",
       "    </tr>\n",
       "    <tr>\n",
       "      <th>1038</th>\n",
       "      <td>1039</td>\n",
       "      <td>id_1039</td>\n",
       "      <td>Product B</td>\n",
       "      <td>Female</td>\n",
       "      <td>Location 39</td>\n",
       "      <td>Region 6</td>\n",
       "      <td>16600</td>\n",
       "      <td>12/29/2014</td>\n",
       "      <td>2000</td>\n",
       "      <td>40</td>\n",
       "      <td>365</td>\n",
       "      <td>3401</td>\n",
       "      <td>4601</td>\n",
       "      <td>16600</td>\n",
       "      <td>Finished Payment</td>\n",
       "    </tr>\n",
       "    <tr>\n",
       "      <th>1039</th>\n",
       "      <td>1040</td>\n",
       "      <td>id_1040</td>\n",
       "      <td>Product B</td>\n",
       "      <td>Male</td>\n",
       "      <td>Location 50</td>\n",
       "      <td>Region 1</td>\n",
       "      <td>16600</td>\n",
       "      <td>3/28/2014</td>\n",
       "      <td>2000</td>\n",
       "      <td>40</td>\n",
       "      <td>365</td>\n",
       "      <td>4240</td>\n",
       "      <td>5440</td>\n",
       "      <td>16600</td>\n",
       "      <td>Finished Payment</td>\n",
       "    </tr>\n",
       "    <tr>\n",
       "      <th>1040</th>\n",
       "      <td>1041</td>\n",
       "      <td>id_1041</td>\n",
       "      <td>Product B</td>\n",
       "      <td>Male</td>\n",
       "      <td>Location 23</td>\n",
       "      <td>Region 4</td>\n",
       "      <td>16600</td>\n",
       "      <td>4/26/2014</td>\n",
       "      <td>2000</td>\n",
       "      <td>40</td>\n",
       "      <td>365</td>\n",
       "      <td>4201</td>\n",
       "      <td>5001</td>\n",
       "      <td>16600</td>\n",
       "      <td>Finished Payment</td>\n",
       "    </tr>\n",
       "    <tr>\n",
       "      <th>1041</th>\n",
       "      <td>1042</td>\n",
       "      <td>id_1042</td>\n",
       "      <td>Product C</td>\n",
       "      <td>NotSpecified</td>\n",
       "      <td>Location 52</td>\n",
       "      <td>Region 6</td>\n",
       "      <td>15600</td>\n",
       "      <td>10/25/2012</td>\n",
       "      <td>1000</td>\n",
       "      <td>40</td>\n",
       "      <td>365</td>\n",
       "      <td>2080</td>\n",
       "      <td>3320</td>\n",
       "      <td>15600</td>\n",
       "      <td>Finished Payment</td>\n",
       "    </tr>\n",
       "    <tr>\n",
       "      <th>1042</th>\n",
       "      <td>1043</td>\n",
       "      <td>id_1043</td>\n",
       "      <td>Product B</td>\n",
       "      <td>Female</td>\n",
       "      <td>Location 142</td>\n",
       "      <td>Region 6</td>\n",
       "      <td>16600</td>\n",
       "      <td>5/15/2015</td>\n",
       "      <td>2000</td>\n",
       "      <td>40</td>\n",
       "      <td>365</td>\n",
       "      <td>4601</td>\n",
       "      <td>4601</td>\n",
       "      <td>16600</td>\n",
       "      <td>Finished Payment</td>\n",
       "    </tr>\n",
       "  </tbody>\n",
       "</table>\n",
       "<p>1043 rows × 15 columns</p>\n",
       "</div>"
      ],
      "text/plain": [
       "      Loan ID String_ID    Product CustomerGender      Location    Region  \\\n",
       "0           1      id_1  Product B           Male    Location 2  Region 2   \n",
       "1           2      id_2  Product B           Male    Location 3  Region 3   \n",
       "2           3      id_3  Product C         Female    Location 5  Region 5   \n",
       "3           4      id_4  Product B           Male    Location 6  Region 1   \n",
       "4           5      id_5  Product D         Female    Location 7  Region 2   \n",
       "...       ...       ...        ...            ...           ...       ...   \n",
       "1038     1039   id_1039  Product B         Female   Location 39  Region 6   \n",
       "1039     1040   id_1040  Product B           Male   Location 50  Region 1   \n",
       "1040     1041   id_1041  Product B           Male   Location 23  Region 4   \n",
       "1041     1042   id_1042  Product C   NotSpecified   Location 52  Region 6   \n",
       "1042     1043   id_1043  Product B         Female  Location 142  Region 6   \n",
       "\n",
       "      TotalPrice   StartDate  Deposit  DailyRate  TotalDays  AmountPaid30  \\\n",
       "0          16600    7/4/2014     2000         40        365          3121   \n",
       "1          16600    1/2/2015     2000         40        365          3061   \n",
       "2          15600   12/8/2012     1000         40        365          2160   \n",
       "3          16600   2/20/2015     2000         40        365          3041   \n",
       "4          20250  10/28/2013     2000         50        365          3470   \n",
       "...          ...         ...      ...        ...        ...           ...   \n",
       "1038       16600  12/29/2014     2000         40        365          3401   \n",
       "1039       16600   3/28/2014     2000         40        365          4240   \n",
       "1040       16600   4/26/2014     2000         40        365          4201   \n",
       "1041       15600  10/25/2012     1000         40        365          2080   \n",
       "1042       16600   5/15/2015     2000         40        365          4601   \n",
       "\n",
       "      AmountPaid60  AmountPaid360     LoanStatus360  \n",
       "0             4241          13621            Active  \n",
       "1             4171          15041            Active  \n",
       "2             3280          15340              None  \n",
       "3             4241          15321            Active  \n",
       "4             4820          13720            Active  \n",
       "...            ...            ...               ...  \n",
       "1038          4601          16600  Finished Payment  \n",
       "1039          5440          16600  Finished Payment  \n",
       "1040          5001          16600  Finished Payment  \n",
       "1041          3320          15600  Finished Payment  \n",
       "1042          4601          16600  Finished Payment  \n",
       "\n",
       "[1043 rows x 15 columns]"
      ]
     },
     "execution_count": 3,
     "metadata": {
     },
     "output_type": "execute_result"
    }
   ],
   "source": [
    "import pandas as pd\n",
    "Json_FileName = 'Lending-company.json'\n",
    "company_Data = pd.read_json(Json_FileName)\n",
    "company_Data\n"
   ]
  },
  {
   "cell_type": "code",
   "execution_count": 8,
   "metadata": {
    "collapsed": false
   },
   "outputs": [
   ],
   "source": [
    "company_Data.to_csv('Lending-company-csv.csv',index= False)"
   ]
  },
  {
   "cell_type": "code",
   "execution_count": 9,
   "metadata": {
    "collapsed": false
   },
   "outputs": [
   ],
   "source": [
    "company_Data.to_excel('Lending-company-csv.xlsx',index= False)"
   ]
  },
  {
   "cell_type": "code",
   "execution_count": 5,
   "metadata": {
    "collapsed": false
   },
   "outputs": [
    {
     "data": {
      "text/html": [
       "<div>\n",
       "<style scoped>\n",
       "    .dataframe tbody tr th:only-of-type {\n",
       "        vertical-align: middle;\n",
       "    }\n",
       "\n",
       "    .dataframe tbody tr th {\n",
       "        vertical-align: top;\n",
       "    }\n",
       "\n",
       "    .dataframe thead th {\n",
       "        text-align: right;\n",
       "    }\n",
       "</style>\n",
       "<table border=\"1\" class=\"dataframe\">\n",
       "  <thead>\n",
       "    <tr style=\"text-align: right;\">\n",
       "      <th></th>\n",
       "      <th>StringID</th>\n",
       "      <th>Product</th>\n",
       "    </tr>\n",
       "    <tr>\n",
       "      <th>LoanID</th>\n",
       "      <th></th>\n",
       "      <th></th>\n",
       "    </tr>\n",
       "  </thead>\n",
       "  <tbody>\n",
       "    <tr>\n",
       "      <th>1</th>\n",
       "      <td>LoanID_1</td>\n",
       "      <td>Product B</td>\n",
       "    </tr>\n",
       "    <tr>\n",
       "      <th>2</th>\n",
       "      <td>LoanID_2</td>\n",
       "      <td>Product D</td>\n",
       "    </tr>\n",
       "    <tr>\n",
       "      <th>3</th>\n",
       "      <td>LoanID_3</td>\n",
       "      <td>Product B</td>\n",
       "    </tr>\n",
       "    <tr>\n",
       "      <th>4</th>\n",
       "      <td>LoanID_4</td>\n",
       "      <td>Product A</td>\n",
       "    </tr>\n",
       "    <tr>\n",
       "      <th>5</th>\n",
       "      <td>LoanID_5</td>\n",
       "      <td>Product B</td>\n",
       "    </tr>\n",
       "    <tr>\n",
       "      <th>...</th>\n",
       "      <td>...</td>\n",
       "      <td>...</td>\n",
       "    </tr>\n",
       "    <tr>\n",
       "      <th>1039</th>\n",
       "      <td>LoanID_1039</td>\n",
       "      <td>Product B</td>\n",
       "    </tr>\n",
       "    <tr>\n",
       "      <th>1040</th>\n",
       "      <td>LoanID_1040</td>\n",
       "      <td>Product A</td>\n",
       "    </tr>\n",
       "    <tr>\n",
       "      <th>1041</th>\n",
       "      <td>LoanID_1041</td>\n",
       "      <td>Product A</td>\n",
       "    </tr>\n",
       "    <tr>\n",
       "      <th>1042</th>\n",
       "      <td>LoanID_1042</td>\n",
       "      <td>Product B</td>\n",
       "    </tr>\n",
       "    <tr>\n",
       "      <th>1043</th>\n",
       "      <td>LoanID_1043</td>\n",
       "      <td>Product A</td>\n",
       "    </tr>\n",
       "  </tbody>\n",
       "</table>\n",
       "<p>1043 rows × 2 columns</p>\n",
       "</div>"
      ],
      "text/plain": [
       "           StringID    Product\n",
       "LoanID                        \n",
       "1          LoanID_1  Product B\n",
       "2          LoanID_2  Product D\n",
       "3          LoanID_3  Product B\n",
       "4          LoanID_4  Product A\n",
       "5          LoanID_5  Product B\n",
       "...             ...        ...\n",
       "1039    LoanID_1039  Product B\n",
       "1040    LoanID_1040  Product A\n",
       "1041    LoanID_1041  Product A\n",
       "1042    LoanID_1042  Product B\n",
       "1043    LoanID_1043  Product A\n",
       "\n",
       "[1043 rows x 2 columns]"
      ]
     },
     "execution_count": 5,
     "metadata": {
     },
     "output_type": "execute_result"
    }
   ],
   "source": [
    "import pandas as pd\n",
    "Json_FileName = 'Lending-company.xlsx'\n",
    "company_Data = pd.read_excel(Json_FileName, index_col= 'LoanID', usecols= (0, 1, 2))\n",
    "company_Data"
   ]
  },
  {
   "cell_type": "code",
   "execution_count": 21,
   "metadata": {
    "collapsed": false
   },
   "outputs": [
    {
     "data": {
      "text/html": [
       "<div>\n",
       "<style scoped>\n",
       "    .dataframe tbody tr th:only-of-type {\n",
       "        vertical-align: middle;\n",
       "    }\n",
       "\n",
       "    .dataframe tbody tr th {\n",
       "        vertical-align: top;\n",
       "    }\n",
       "\n",
       "    .dataframe thead th {\n",
       "        text-align: right;\n",
       "    }\n",
       "</style>\n",
       "<table border=\"1\" class=\"dataframe\">\n",
       "  <thead>\n",
       "    <tr style=\"text-align: right;\">\n",
       "      <th></th>\n",
       "      <th>ASC_ID</th>\n",
       "      <th>TAG</th>\n",
       "      <th>SIZE</th>\n",
       "      <th>COUNTRY_CODE</th>\n",
       "      <th>PRICE</th>\n",
       "    </tr>\n",
       "  </thead>\n",
       "  <tbody>\n",
       "    <tr>\n",
       "      <th>0</th>\n",
       "      <td>A102</td>\n",
       "      <td>3045</td>\n",
       "      <td>XXL</td>\n",
       "      <td>778</td>\n",
       "      <td>$79</td>\n",
       "    </tr>\n",
       "    <tr>\n",
       "      <th>1</th>\n",
       "      <td>A103</td>\n",
       "      <td>3047</td>\n",
       "      <td>S</td>\n",
       "      <td>777</td>\n",
       "      <td>$76</td>\n",
       "    </tr>\n",
       "    <tr>\n",
       "      <th>2</th>\n",
       "      <td>A104</td>\n",
       "      <td>3048</td>\n",
       "      <td>XX</td>\n",
       "      <td>776</td>\n",
       "      <td>$82</td>\n",
       "    </tr>\n",
       "    <tr>\n",
       "      <th>3</th>\n",
       "      <td>A105</td>\n",
       "      <td>3042</td>\n",
       "      <td>M</td>\n",
       "      <td>772</td>\n",
       "      <td>$92</td>\n",
       "    </tr>\n",
       "    <tr>\n",
       "      <th>4</th>\n",
       "      <td>A106</td>\n",
       "      <td>3037</td>\n",
       "      <td>XL</td>\n",
       "      <td>771</td>\n",
       "      <td>$93</td>\n",
       "    </tr>\n",
       "    <tr>\n",
       "      <th>5</th>\n",
       "      <td>A107</td>\n",
       "      <td>3038</td>\n",
       "      <td>XXS</td>\n",
       "      <td>775</td>\n",
       "      <td>$99</td>\n",
       "    </tr>\n",
       "    <tr>\n",
       "      <th>6</th>\n",
       "      <td>A108</td>\n",
       "      <td>3045</td>\n",
       "      <td>XXL</td>\n",
       "      <td>778</td>\n",
       "      <td>$79</td>\n",
       "    </tr>\n",
       "    <tr>\n",
       "      <th>7</th>\n",
       "      <td>A109</td>\n",
       "      <td>3047</td>\n",
       "      <td>S</td>\n",
       "      <td>755</td>\n",
       "      <td>$76</td>\n",
       "    </tr>\n",
       "    <tr>\n",
       "      <th>8</th>\n",
       "      <td>A110</td>\n",
       "      <td>3048</td>\n",
       "      <td>XX</td>\n",
       "      <td>752</td>\n",
       "      <td>$82</td>\n",
       "    </tr>\n",
       "    <tr>\n",
       "      <th>9</th>\n",
       "      <td>A111</td>\n",
       "      <td>3042</td>\n",
       "      <td>M</td>\n",
       "      <td>746</td>\n",
       "      <td>$92</td>\n",
       "    </tr>\n",
       "    <tr>\n",
       "      <th>10</th>\n",
       "      <td>A112</td>\n",
       "      <td>3037</td>\n",
       "      <td>XL</td>\n",
       "      <td>745</td>\n",
       "      <td>$93</td>\n",
       "    </tr>\n",
       "    <tr>\n",
       "      <th>11</th>\n",
       "      <td>A113</td>\n",
       "      <td>3038</td>\n",
       "      <td>XXS</td>\n",
       "      <td>743</td>\n",
       "      <td>$99</td>\n",
       "    </tr>\n",
       "  </tbody>\n",
       "</table>\n",
       "</div>"
      ],
      "text/plain": [
       "   ASC_ID   TAG SIZE  COUNTRY_CODE PRICE\n",
       "0    A102  3045  XXL           778   $79\n",
       "1    A103  3047    S           777   $76\n",
       "2    A104  3048   XX           776   $82\n",
       "3    A105  3042    M           772   $92\n",
       "4    A106  3037   XL           771   $93\n",
       "5    A107  3038  XXS           775   $99\n",
       "6    A108  3045  XXL           778   $79\n",
       "7    A109  3047    S           755   $76\n",
       "8    A110  3048   XX           752   $82\n",
       "9    A111  3042    M           746   $92\n",
       "10   A112  3037   XL           745   $93\n",
       "11   A113  3038  XXS           743   $99"
      ]
     },
     "execution_count": 21,
     "metadata": {
     },
     "output_type": "execute_result"
    }
   ],
   "source": [
    "import pandas as pd\n",
    "Csv_Single_Comma_FileName = 'Size_csv.csv'\n",
    "pd.read_csv(Csv_Single_Comma_FileName, sep = '\\,', engine='python')\n"
   ]
  },
  {
   "cell_type": "code",
   "execution_count": 24,
   "metadata": {
    "collapsed": false
   },
   "outputs": [
    {
     "data": {
      "text/html": [
       "<div>\n",
       "<style scoped>\n",
       "    .dataframe tbody tr th:only-of-type {\n",
       "        vertical-align: middle;\n",
       "    }\n",
       "\n",
       "    .dataframe tbody tr th {\n",
       "        vertical-align: top;\n",
       "    }\n",
       "\n",
       "    .dataframe thead th {\n",
       "        text-align: right;\n",
       "    }\n",
       "</style>\n",
       "<table border=\"1\" class=\"dataframe\">\n",
       "  <thead>\n",
       "    <tr style=\"text-align: right;\">\n",
       "      <th></th>\n",
       "      <th>CustomerGender</th>\n",
       "    </tr>\n",
       "  </thead>\n",
       "  <tbody>\n",
       "    <tr>\n",
       "      <th>0</th>\n",
       "      <td>Female</td>\n",
       "    </tr>\n",
       "    <tr>\n",
       "      <th>1</th>\n",
       "      <td>Female</td>\n",
       "    </tr>\n",
       "    <tr>\n",
       "      <th>2</th>\n",
       "      <td>Male</td>\n",
       "    </tr>\n",
       "    <tr>\n",
       "      <th>3</th>\n",
       "      <td>Male</td>\n",
       "    </tr>\n",
       "    <tr>\n",
       "      <th>4</th>\n",
       "      <td>Female</td>\n",
       "    </tr>\n",
       "    <tr>\n",
       "      <th>...</th>\n",
       "      <td>...</td>\n",
       "    </tr>\n",
       "    <tr>\n",
       "      <th>1038</th>\n",
       "      <td>Male</td>\n",
       "    </tr>\n",
       "    <tr>\n",
       "      <th>1039</th>\n",
       "      <td>Male</td>\n",
       "    </tr>\n",
       "    <tr>\n",
       "      <th>1040</th>\n",
       "      <td>NotSpecified</td>\n",
       "    </tr>\n",
       "    <tr>\n",
       "      <th>1041</th>\n",
       "      <td>Female</td>\n",
       "    </tr>\n",
       "    <tr>\n",
       "      <th>1042</th>\n",
       "      <td>NotSpecified</td>\n",
       "    </tr>\n",
       "  </tbody>\n",
       "</table>\n",
       "<p>1043 rows × 1 columns</p>\n",
       "</div>"
      ],
      "text/plain": [
       "     CustomerGender\n",
       "0            Female\n",
       "1            Female\n",
       "2              Male\n",
       "3              Male\n",
       "4            Female\n",
       "...             ...\n",
       "1038           Male\n",
       "1039           Male\n",
       "1040   NotSpecified\n",
       "1041         Female\n",
       "1042   NotSpecified\n",
       "\n",
       "[1043 rows x 1 columns]"
      ]
     },
     "execution_count": 24,
     "metadata": {
     },
     "output_type": "execute_result"
    }
   ],
   "source": [
    "import pandas as pd\n",
    "File_Name_Customer_csv = 'Customer-Gender.csv'\n",
    "df_Customer = pd.read_csv(File_Name_Customer_csv)\n",
    "df_Customer"
   ]
  },
  {
   "cell_type": "code",
   "execution_count": 25,
   "metadata": {
    "collapsed": false
   },
   "outputs": [
    {
     "data": {
      "text/plain": [
       "pandas.core.frame.DataFrame"
      ]
     },
     "execution_count": 25,
     "metadata": {
     },
     "output_type": "execute_result"
    }
   ],
   "source": [
    "type(df_Customer)"
   ]
  },
  {
   "cell_type": "code",
   "execution_count": 29,
   "metadata": {
    "collapsed": false
   },
   "outputs": [
    {
     "data": {
      "text/plain": [
       "0             Female\n",
       "1             Female\n",
       "2               Male\n",
       "3               Male\n",
       "4             Female\n",
       "            ...     \n",
       "1038            Male\n",
       "1039            Male\n",
       "1040    NotSpecified\n",
       "1041          Female\n",
       "1042    NotSpecified\n",
       "Name: CustomerGender, Length: 1043, dtype: object"
      ]
     },
     "execution_count": 29,
     "metadata": {
     },
     "output_type": "execute_result"
    }
   ],
   "source": [
    "import pandas as pd\n",
    "File_Name_Customer_csv_1 = 'Customer-Gender.csv'\n",
    "df_Customer_1 = pd.read_csv(File_Name_Customer_csv)\n",
    "Sr_Customer_1 = df_Customer_1.squeeze('columns')\n",
    "Sr_Customer_1"
   ]
  },
  {
   "cell_type": "code",
   "execution_count": 38,
   "metadata": {
    "collapsed": false
   },
   "outputs": [
    {
     "data": {
      "text/plain": [
       "0      CB179742\n",
       "1       PH65213\n",
       "2      CB290152\n",
       "3      CB290152\n",
       "4     CB573633A\n",
       "        ...    \n",
       "92    CB727181A\n",
       "93    CB726881A\n",
       "94    CB726881A\n",
       "95    CB726884A\n",
       "96    CB726884A\n",
       "Name: Glid, Length: 97, dtype: object"
      ]
     },
     "execution_count": 38,
     "metadata": {
     },
     "output_type": "execute_result"
    }
   ],
   "source": [
    "import pandas as pd\n",
    "csvFileName = 'Glid_Check.csv'\n",
    "df_csv = pd.read_csv(csvFileName, usecols= ['Glid'])\n",
    "Sr_csv = df_csv.squeeze('columns')\n",
    "Sr_csv"
   ]
  },
  {
   "cell_type": "code",
   "execution_count": 40,
   "metadata": {
    "collapsed": false
   },
   "outputs": [
    {
     "name": "stdout",
     "output_type": "stream",
     "text": [
      "Type of Data Frame: <class 'pandas.core.frame.DataFrame'>\n",
      "Type of  Series: <class 'pandas.core.series.Series'>\n"
     ]
    }
   ],
   "source": [
    "print(\"Type of Data Frame: \" + str(type(df_csv)))\n",
    "print(\"Type of  Series: \" + str(type(Sr_csv)))"
   ]
  },
  {
   "cell_type": "code",
   "execution_count": 10,
   "metadata": {
    "collapsed": false
   },
   "outputs": [
    {
     "name": "stderr",
     "output_type": "stream",
     "text": [
      "/tmp/ipykernel_228/2339340406.py:6: DeprecationWarning: `np.str` is a deprecated alias for the builtin `str`. To silence this warning, use `str` by itself. Doing this will not modify any behavior and is safe. If you specifically wanted the numpy scalar type, use `np.str_` here.\n",
      "Deprecated in NumPy 1.20; for more details and guidance: https://numpy.org/devdocs/release/1.20.0-notes.html#deprecations\n",
      "  dtype=np.str)\n"
     ]
    },
    {
     "data": {
      "text/plain": [
       "array([['LoanID', 'StringID', 'Product', ..., 'Location', 'Region',\n",
       "        'TotalPrice'],\n",
       "       ['1', 'id_1', 'Product B', ..., 'Location 2', 'Region 2',\n",
       "        '16600.0'],\n",
       "       ['2', 'id_2', 'Product B', ..., 'Location 3', '', '16600.0'],\n",
       "       ...,\n",
       "       ['1041', 'id_1041', 'Product B', ..., 'Location 23', 'Region 4',\n",
       "        '16600.0'],\n",
       "       ['1042', 'id_1042', 'Product C', ..., 'Location 52', 'Region 6',\n",
       "        '15600.0'],\n",
       "       ['1043', 'id_1043', 'Product B', ..., 'Location 142', 'Region 6',\n",
       "        '16600.0']], dtype='<U14')"
      ]
     },
     "execution_count": 10,
     "metadata": {
     },
     "output_type": "execute_result"
    }
   ],
   "source": [
    "import pandas as pd\n",
    "import numpy as np\n",
    "FileName_06_14 = 'Lending-Company-Saving.csv'\n",
    "company_details = np.genfromtxt(FileName_06_14,\n",
    "             delimiter= ',',\n",
    "             dtype=np.str)\n",
    "company_details"
   ]
  },
  {
   "cell_type": "code",
   "execution_count": 11,
   "metadata": {
    "collapsed": false
   },
   "outputs": [
   ],
   "source": [
    "np.save('Lending-Company-Saving-06-14', company_details)"
   ]
  },
  {
   "cell_type": "code",
   "execution_count": 21,
   "metadata": {
    "collapsed": false
   },
   "outputs": [
    {
     "name": "stdout",
     "output_type": "stream",
     "text": [
      "[['LoanID' 'StringID' 'Product' ... 'Location' 'Region' 'TotalPrice']\n",
      " ['1' 'id_1' 'Product B' ... 'Location 2' 'Region 2' '16600.0']\n",
      " ['2' 'id_2' 'Product B' ... 'Location 3' '' '16600.0']\n",
      " ...\n",
      " ['1041' 'id_1041' 'Product B' ... 'Location 23' 'Region 4' '16600.0']\n",
      " ['1042' 'id_1042' 'Product C' ... 'Location 52' 'Region 6' '15600.0']\n",
      " ['1043' 'id_1043' 'Product B' ... 'Location 142' 'Region 6' '16600.0']]\n"
     ]
    }
   ],
   "source": [
    "npy_data = np.load('Lending-Company-Saving-06-14.npy')\n",
    "print(npy_data)"
   ]
  },
  {
   "cell_type": "code",
   "execution_count": 13,
   "metadata": {
    "collapsed": false
   },
   "outputs": [
    {
     "data": {
      "text/plain": [
       "True"
      ]
     },
     "execution_count": 13,
     "metadata": {
     },
     "output_type": "execute_result"
    }
   ],
   "source": [
    "np.array_equal(npy_data, company_details)"
   ]
  },
  {
   "cell_type": "code",
   "execution_count": 14,
   "metadata": {
    "collapsed": false
   },
   "outputs": [
    {
     "name": "stderr",
     "output_type": "stream",
     "text": [
      "/tmp/ipykernel_228/238805488.py:6: DeprecationWarning: `np.str` is a deprecated alias for the builtin `str`. To silence this warning, use `str` by itself. Doing this will not modify any behavior and is safe. If you specifically wanted the numpy scalar type, use `np.str_` here.\n",
      "Deprecated in NumPy 1.20; for more details and guidance: https://numpy.org/devdocs/release/1.20.0-notes.html#deprecations\n",
      "  dtype=np.str)\n"
     ]
    }
   ],
   "source": [
    "import pandas as pd\n",
    "import numpy as np\n",
    "FileName_06_14 = 'Lending-Company-Saving.csv'\n",
    "company_details = np.genfromtxt(FileName_06_14,\n",
    "             delimiter= ',',\n",
    "             dtype=np.str)\n",
    "\n",
    "npy_data = np.load('Lending-Company-Saving-06-14.npy')"
   ]
  },
  {
   "cell_type": "code",
   "execution_count": 26,
   "metadata": {
    "collapsed": false
   },
   "outputs": [
    {
     "data": {
      "text/plain": [
       "['company', 'npy']"
      ]
     },
     "execution_count": 26,
     "metadata": {
     },
     "output_type": "execute_result"
    }
   ],
   "source": [
    "np.savez('Company_Npz_Saving', company = company_details, npy = npy_data)\n",
    "npz_data = np.load('Company_Npz_Saving.npz')\n",
    "npz_data.files"
   ]
  },
  {
   "cell_type": "code",
   "execution_count": 28,
   "metadata": {
    "collapsed": false
   },
   "outputs": [
    {
     "name": "stdout",
     "output_type": "stream",
     "text": [
      "[['LoanID' 'StringID' 'Product' ... 'Location' 'Region' 'TotalPrice']\n",
      " ['1' 'id_1' 'Product B' ... 'Location 2' 'Region 2' '16600.0']\n",
      " ['2' 'id_2' 'Product B' ... 'Location 3' '' '16600.0']\n",
      " ...\n",
      " ['1041' 'id_1041' 'Product B' ... 'Location 23' 'Region 4' '16600.0']\n",
      " ['1042' 'id_1042' 'Product C' ... 'Location 52' 'Region 6' '15600.0']\n",
      " ['1043' 'id_1043' 'Product B' ... 'Location 142' 'Region 6' '16600.0']]\n"
     ]
    }
   ],
   "source": [
    "print(npz_data['npy'])"
   ]
  },
  {
   "cell_type": "code",
   "execution_count": 29,
   "metadata": {
    "collapsed": false
   },
   "outputs": [
    {
     "data": {
      "text/plain": [
       "True"
      ]
     },
     "execution_count": 29,
     "metadata": {
     },
     "output_type": "execute_result"
    }
   ],
   "source": [
    "np.array_equal(npz_data['npy'], npz_data['company'])"
   ]
  },
  {
   "cell_type": "code",
   "execution_count": 30,
   "metadata": {
    "collapsed": false
   },
   "outputs": [
    {
     "name": "stderr",
     "output_type": "stream",
     "text": [
      "/tmp/ipykernel_228/2339340406.py:6: DeprecationWarning: `np.str` is a deprecated alias for the builtin `str`. To silence this warning, use `str` by itself. Doing this will not modify any behavior and is safe. If you specifically wanted the numpy scalar type, use `np.str_` here.\n",
      "Deprecated in NumPy 1.20; for more details and guidance: https://numpy.org/devdocs/release/1.20.0-notes.html#deprecations\n",
      "  dtype=np.str)\n"
     ]
    },
    {
     "data": {
      "text/plain": [
       "array([['LoanID', 'StringID', 'Product', ..., 'Location', 'Region',\n",
       "        'TotalPrice'],\n",
       "       ['1', 'id_1', 'Product B', ..., 'Location 2', 'Region 2',\n",
       "        '16600.0'],\n",
       "       ['2', 'id_2', 'Product B', ..., 'Location 3', '', '16600.0'],\n",
       "       ...,\n",
       "       ['1041', 'id_1041', 'Product B', ..., 'Location 23', 'Region 4',\n",
       "        '16600.0'],\n",
       "       ['1042', 'id_1042', 'Product C', ..., 'Location 52', 'Region 6',\n",
       "        '15600.0'],\n",
       "       ['1043', 'id_1043', 'Product B', ..., 'Location 142', 'Region 6',\n",
       "        '16600.0']], dtype='<U14')"
      ]
     },
     "execution_count": 30,
     "metadata": {
     },
     "output_type": "execute_result"
    }
   ],
   "source": [
    "import pandas as pd\n",
    "import numpy as np\n",
    "FileName_06_14 = 'Lending-Company-Saving.csv'\n",
    "company_details = np.genfromtxt(FileName_06_14,\n",
    "             delimiter= ',',\n",
    "             dtype=np.str)\n",
    "company_details"
   ]
  },
  {
   "cell_type": "code",
   "execution_count": 32,
   "metadata": {
    "collapsed": false
   },
   "outputs": [
   ],
   "source": [
    "np.savetxt('Lending-Company-Saving.txt', \n",
    "           company_details,\n",
    "           fmt = '%s',\n",
    "           delimiter= ','\n",
    "          )"
   ]
  },
  {
   "cell_type": "code",
   "execution_count": 33,
   "metadata": {
    "collapsed": false
   },
   "outputs": [
    {
     "name": "stdout",
     "output_type": "stream",
     "text": [
      "[['LoanID' 'StringID' 'Product' ... 'Location' 'Region' 'TotalPrice']\n",
      " ['1' 'id_1' 'Product B' ... 'Location 2' 'Region 2' '16600.0']\n",
      " ['2' 'id_2' 'Product B' ... 'Location 3' '' '16600.0']\n",
      " ...\n",
      " ['1041' 'id_1041' 'Product B' ... 'Location 23' 'Region 4' '16600.0']\n",
      " ['1042' 'id_1042' 'Product C' ... 'Location 52' 'Region 6' '15600.0']\n",
      " ['1043' 'id_1043' 'Product B' ... 'Location 142' 'Region 6' '16600.0']]\n"
     ]
    },
    {
     "name": "stderr",
     "output_type": "stream",
     "text": [
      "/tmp/ipykernel_228/3835610259.py:4: DeprecationWarning: `np.str` is a deprecated alias for the builtin `str`. To silence this warning, use `str` by itself. Doing this will not modify any behavior and is safe. If you specifically wanted the numpy scalar type, use `np.str_` here.\n",
      "Deprecated in NumPy 1.20; for more details and guidance: https://numpy.org/devdocs/release/1.20.0-notes.html#deprecations\n",
      "  dtype=np.str)\n"
     ]
    }
   ],
   "source": [
    "File_Name_Txt = 'Lending-Company-Saving.txt'\n",
    "data_txt = np.genfromtxt(File_Name_Txt,\n",
    "             delimiter= ',',\n",
    "             dtype=np.str)\n",
    "print(data_txt)"
   ]
  },
  {
   "cell_type": "code",
   "execution_count": 0,
   "metadata": {
    "collapsed": false
   },
   "outputs": [
   ],
   "source": [
   ]
  }
 ],
 "metadata": {
  "kernelspec": {
   "argv": [
    "/usr/bin/python3",
    "-m",
    "ipykernel",
    "--HistoryManager.enabled=False",
    "--matplotlib=inline",
    "-c",
    "%config InlineBackend.figure_formats = set(['retina'])\nimport matplotlib; matplotlib.rcParams['figure.figsize'] = (12, 7)",
    "-f",
    "{connection_file}"
   ],
   "display_name": "Python 3 (system-wide)",
   "env": {
   },
   "language": "python",
   "metadata": {
    "cocalc": {
     "description": "Python 3 programming language",
     "priority": 100,
     "url": "https://www.python.org/"
    }
   },
   "name": "python3",
   "resource_dir": "/ext/jupyter/kernels/python3"
  }
 },
 "nbformat": 4,
 "nbformat_minor": 4
}